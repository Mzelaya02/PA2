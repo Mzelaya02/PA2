{
 "cells": [
  {
   "cell_type": "markdown",
   "id": "bec6225c",
   "metadata": {},
   "source": [
    "# Compter Programming For the Liberal Arts "
   ]
  },
  {
   "cell_type": "markdown",
   "id": "163a9634",
   "metadata": {},
   "source": [
    "## Michael Zelaya "
   ]
  },
  {
   "cell_type": "markdown",
   "id": "511fafdb",
   "metadata": {},
   "source": [
    "## Programing Assignment 2- Version 2 "
   ]
  },
  {
   "cell_type": "markdown",
   "id": "394a76a5",
   "metadata": {},
   "source": [
    "## Spring 2023"
   ]
  },
  {
   "cell_type": "code",
   "execution_count": 21,
   "id": "6d75e30c",
   "metadata": {},
   "outputs": [
    {
     "name": "stdout",
     "output_type": "stream",
     "text": [
      "Enter a floating-point number. 44.3\n"
     ]
    }
   ],
   "source": [
    "number=float(input(\"Enter a floating-point number. \"))"
   ]
  },
  {
   "cell_type": "code",
   "execution_count": 18,
   "id": "c5195896",
   "metadata": {},
   "outputs": [
    {
     "name": "stdout",
     "output_type": "stream",
     "text": [
      "Enter an integer. 16\n"
     ]
    }
   ],
   "source": [
    "number=int(input(\"Enter an integer. \"))"
   ]
  },
  {
   "cell_type": "code",
   "execution_count": 13,
   "id": "0872f9a3",
   "metadata": {},
   "outputs": [
    {
     "name": "stdout",
     "output_type": "stream",
     "text": [
      "The sum is  60.3\n"
     ]
    }
   ],
   "source": [
    "print(\"The sum is \", 44.3+16)"
   ]
  },
  {
   "cell_type": "code",
   "execution_count": 14,
   "id": "69b0610a",
   "metadata": {},
   "outputs": [
    {
     "name": "stdout",
     "output_type": "stream",
     "text": [
      "The difference is  28.299999999999997\n"
     ]
    }
   ],
   "source": [
    "print(\"The difference is \", 44.3-16)"
   ]
  },
  {
   "cell_type": "code",
   "execution_count": 15,
   "id": "836977ef",
   "metadata": {},
   "outputs": [
    {
     "name": "stdout",
     "output_type": "stream",
     "text": [
      "The product is  708.8\n"
     ]
    }
   ],
   "source": [
    "print(\"The product is \", 708.8)"
   ]
  },
  {
   "cell_type": "code",
   "execution_count": 16,
   "id": "edc07215",
   "metadata": {},
   "outputs": [
    {
     "name": "stdout",
     "output_type": "stream",
     "text": [
      "The quotient is  2.768\n"
     ]
    }
   ],
   "source": [
    "print(\"The quotient is \", 2.768)"
   ]
  },
  {
   "cell_type": "code",
   "execution_count": 17,
   "id": "25aa21ab",
   "metadata": {},
   "outputs": [
    {
     "name": "stdout",
     "output_type": "stream",
     "text": [
      "The type for the result is <class 'int'>\n"
     ]
    }
   ],
   "source": [
    "print(\"The type for the result is\", type(number))"
   ]
  }
 ],
 "metadata": {
  "kernelspec": {
   "display_name": "Python 3 (ipykernel)",
   "language": "python",
   "name": "python3"
  },
  "language_info": {
   "codemirror_mode": {
    "name": "ipython",
    "version": 3
   },
   "file_extension": ".py",
   "mimetype": "text/x-python",
   "name": "python",
   "nbconvert_exporter": "python",
   "pygments_lexer": "ipython3",
   "version": "3.9.13"
  }
 },
 "nbformat": 4,
 "nbformat_minor": 5
}
